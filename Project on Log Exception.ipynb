{
 "cells": [
  {
   "cell_type": "code",
   "execution_count": 1,
   "id": "3a37f42b",
   "metadata": {},
   "outputs": [
    {
     "name": "stdout",
     "output_type": "stream",
     "text": [
      "Enter username: sachingupta\n",
      "Enter password: 123456\n",
      "Login success!\n",
      "Hi sachingupta\n",
      "Enter correct username and password to continue: \n",
      "Enter username: sachingupta\n",
      "Enter password: 123456\n",
      "Access granted\n"
     ]
    }
   ],
   "source": [
    "def welcome():\n",
    "    print('Enter correct username and password to continue: ')\n",
    "\n",
    "username = input('Enter username: ')\n",
    "password = input('Enter password: ')\n",
    "\n",
    "try:\n",
    "    if username == \"sachingupta\" and password == \"123456\":           \n",
    "        print(\"Login success!\")\n",
    "        print(\"Hi\", username)\n",
    "        welcome()\n",
    "    else:\n",
    "        print(\"Try again\")\n",
    "except Error:\n",
    "    print('Access denied!')\n",
    "for _ in range(2):\n",
    "    username = input('Enter username: ')\n",
    "    password = input('Enter password: ')\n",
    "    if password=='123456' and username=='sachingupta':\n",
    "        print('Access granted')\n",
    "        break\n",
    "    else:\n",
    "        print('Access denied!')\n",
    "    print(\"Try Again\")\n",
    "else:\n",
    "    print(\"No more attempts!\")\n",
    "\n"
   ]
  },
  {
   "cell_type": "code",
   "execution_count": null,
   "id": "a8f1b58b",
   "metadata": {},
   "outputs": [],
   "source": []
  },
  {
   "cell_type": "code",
   "execution_count": null,
   "id": "1062d804",
   "metadata": {},
   "outputs": [],
   "source": []
  }
 ],
 "metadata": {
  "kernelspec": {
   "display_name": "Python 3 (ipykernel)",
   "language": "python",
   "name": "python3"
  },
  "language_info": {
   "codemirror_mode": {
    "name": "ipython",
    "version": 3
   },
   "file_extension": ".py",
   "mimetype": "text/x-python",
   "name": "python",
   "nbconvert_exporter": "python",
   "pygments_lexer": "ipython3",
   "version": "3.9.7"
  }
 },
 "nbformat": 4,
 "nbformat_minor": 5
}
